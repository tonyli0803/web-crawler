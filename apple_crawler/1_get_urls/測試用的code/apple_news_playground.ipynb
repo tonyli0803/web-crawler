{
 "cells": [
  {
   "cell_type": "code",
   "execution_count": 18,
   "metadata": {},
   "outputs": [],
   "source": [
    "import requests\n",
    "from bs4 import BeautifulSoup\n",
    "from lxml import html"
   ]
  },
  {
   "cell_type": "code",
   "execution_count": 19,
   "metadata": {},
   "outputs": [
    {
     "name": "stdout",
     "output_type": "stream",
     "text": [
      "最新\n"
     ]
    },
    {
     "name": "stderr",
     "output_type": "stream",
     "text": [
      "C:\\Users\\tony\\Anaconda3\\lib\\site-packages\\bs4\\__init__.py:181: UserWarning: No parser was explicitly specified, so I'm using the best available HTML parser for this system (\"lxml\"). This usually isn't a problem, but if you run this code on another system, or in a different virtual environment, it may use a different parser and behave differently.\n",
      "\n",
      "The code that caused this warning is on line 193 of the file C:\\Users\\tony\\Anaconda3\\lib\\runpy.py. To get rid of this warning, change code that looks like this:\n",
      "\n",
      " BeautifulSoup(YOUR_MARKUP})\n",
      "\n",
      "to this:\n",
      "\n",
      " BeautifulSoup(YOUR_MARKUP, \"lxml\")\n",
      "\n",
      "  markup_type=markup_type))\n"
     ]
    }
   ],
   "source": [
    "html = requests.get('https://tw.appledaily.com/new/realtime/20180829/1420080/')\n",
    "\n",
    "res = BeautifulSoup(html.text)\n",
    "\n",
    "print(res.select('a.current')[1].text)\n"
   ]
  },
  {
   "cell_type": "code",
   "execution_count": 20,
   "metadata": {},
   "outputs": [],
   "source": [
    "urls = []\n",
    "with open('apple_news_links.txt') as f:\n",
    "    for i in f.readlines():\n",
    "        urls.append(i)"
   ]
  },
  {
   "cell_type": "code",
   "execution_count": 21,
   "metadata": {},
   "outputs": [
    {
     "name": "stderr",
     "output_type": "stream",
     "text": [
      "C:\\Users\\tony\\Anaconda3\\lib\\site-packages\\bs4\\__init__.py:181: UserWarning: No parser was explicitly specified, so I'm using the best available HTML parser for this system (\"lxml\"). This usually isn't a problem, but if you run this code on another system, or in a different virtual environment, it may use a different parser and behave differently.\n",
      "\n",
      "The code that caused this warning is on line 193 of the file C:\\Users\\tony\\Anaconda3\\lib\\runpy.py. To get rid of this warning, change code that looks like this:\n",
      "\n",
      " BeautifulSoup(YOUR_MARKUP})\n",
      "\n",
      "to this:\n",
      "\n",
      " BeautifulSoup(YOUR_MARKUP, \"lxml\")\n",
      "\n",
      "  markup_type=markup_type))\n"
     ]
    },
    {
     "name": "stdout",
     "output_type": "stream",
     "text": [
      "https://tw.news.appledaily.com/politics/realtime/20180829/1420121/\n",
      "\n",
      "政治\n",
      "----------------*------------------------\n",
      "https://tw.finance.appledaily.com/realtime/20180829/1419898/\n",
      "\n",
      "財經地產\n",
      "----------------*------------------------\n",
      "https://tw.news.appledaily.com/life/realtime/20180829/1419903/\n",
      "\n",
      "生活\n",
      "----------------*------------------------\n",
      "https://tw.entertainment.appledaily.com/realtime/20180829/1420114/\n",
      "\n",
      "娛樂時尚\n",
      "----------------*------------------------\n",
      "https://tw.finance.appledaily.com/realtime/20180829/1420080/\n",
      "\n",
      "財經地產\n",
      "----------------*------------------------\n",
      "https://tw.sports.appledaily.com/realtime/20180829/1420077/\n",
      "\n",
      "體育\n",
      "----------------*------------------------\n",
      "https://tw.news.appledaily.com/life/realtime/20180829/1420119/\n",
      "\n",
      "生活\n",
      "----------------*------------------------\n",
      "https://tw.news.appledaily.com/life/realtime/20180829/1420112/\n",
      "\n",
      "生活\n",
      "----------------*------------------------\n",
      "https://tw.news.appledaily.com/local/realtime/20180829/1420095/\n",
      "\n",
      "社會\n",
      "----------------*------------------------\n",
      "https://tw.news.appledaily.com/politics/realtime/20180829/1420115/\n",
      "\n",
      "政治\n",
      "----------------*------------------------\n",
      "https://tw.entertainment.appledaily.com/realtime/20180829/1419807/\n",
      "\n",
      "娛樂時尚\n",
      "----------------*------------------------\n",
      "https://tw.entertainment.appledaily.com/realtime/20180829/1420054/\n",
      "\n",
      "娛樂時尚\n",
      "----------------*------------------------\n",
      "https://tw.finance.appledaily.com/realtime/20180829/1420081/\n",
      "\n",
      "財經地產\n",
      "----------------*------------------------\n",
      "https://tw.entertainment.appledaily.com/realtime/20180829/1419806/\n",
      "\n",
      "娛樂時尚\n",
      "----------------*------------------------\n",
      "https://tw.news.appledaily.com/life/realtime/20180829/1419373/\n",
      "\n",
      "生活\n",
      "----------------*------------------------\n",
      "https://tw.news.appledaily.com/international/realtime/20180829/1420096/\n",
      "\n",
      "國際\n",
      "----------------*------------------------\n",
      "https://tw.finance.appledaily.com/realtime/20180829/1420053/\n",
      "\n",
      "財經地產\n",
      "----------------*------------------------\n",
      "https://tw.news.appledaily.com/life/realtime/20180829/1420118/\n",
      "\n",
      "生活\n",
      "----------------*------------------------\n",
      "https://tw.news.appledaily.com/life/realtime/20180829/1420082/\n",
      "\n",
      "生活\n",
      "----------------*------------------------\n",
      "https://tw.sports.appledaily.com/realtime/20180829/1420111/\n",
      "\n",
      "體育\n",
      "----------------*------------------------\n",
      "https://tw.news.appledaily.com/politics/realtime/20180829/1419984/\n",
      "\n",
      "政治\n",
      "----------------*------------------------\n",
      "https://tw.news.appledaily.com/life/realtime/20180829/1420091/\n",
      "\n",
      "生活\n",
      "----------------*------------------------\n",
      "https://tw.finance.appledaily.com/realtime/20180829/1420116/\n",
      "\n",
      "財經地產\n",
      "----------------*------------------------\n",
      "https://tw.news.appledaily.com/life/realtime/20180829/1418034/\n",
      "\n",
      "生活\n",
      "----------------*------------------------\n",
      "https://tw.news.appledaily.com/life/realtime/20180829/1420107/\n",
      "\n",
      "生活\n",
      "----------------*------------------------\n"
     ]
    }
   ],
   "source": [
    "for i in urls:\n",
    "    html = requests.get(i)\n",
    "    res = BeautifulSoup(html.text)\n",
    "    print(i)\n",
    "    print(res.select('a.current')[1].text)\n",
    "    print('----------------*------------------------')"
   ]
  },
  {
   "cell_type": "code",
   "execution_count": null,
   "metadata": {},
   "outputs": [],
   "source": []
  },
  {
   "cell_type": "code",
   "execution_count": null,
   "metadata": {},
   "outputs": [],
   "source": []
  },
  {
   "cell_type": "code",
   "execution_count": null,
   "metadata": {},
   "outputs": [],
   "source": []
  },
  {
   "cell_type": "code",
   "execution_count": 6,
   "metadata": {},
   "outputs": [],
   "source": [
    "import io\n",
    "\n",
    "\n",
    "file = io.open('spam.txt', 'a') \n",
    "file.write(u'Spam and eggs!\\n') \n",
    "file.close()"
   ]
  },
  {
   "cell_type": "code",
   "execution_count": 5,
   "metadata": {},
   "outputs": [],
   "source": [
    "file = io.open('spam.txt', 'a') \n",
    "file.write(u'Spam and eggs!\\n') \n",
    "file.close()"
   ]
  },
  {
   "cell_type": "code",
   "execution_count": 9,
   "metadata": {},
   "outputs": [],
   "source": [
    "with io.open(\"asdf.txt\",\"a\",encoding='UTF-8') as f :\n",
    "    f.write(u'Spam and eggs!\\n') \n"
   ]
  },
  {
   "cell_type": "code",
   "execution_count": null,
   "metadata": {},
   "outputs": [],
   "source": []
  }
 ],
 "metadata": {
  "kernelspec": {
   "display_name": "Python 3",
   "language": "python",
   "name": "python3"
  },
  "language_info": {
   "codemirror_mode": {
    "name": "ipython",
    "version": 3
   },
   "file_extension": ".py",
   "mimetype": "text/x-python",
   "name": "python",
   "nbconvert_exporter": "python",
   "pygments_lexer": "ipython3",
   "version": "3.6.5"
  }
 },
 "nbformat": 4,
 "nbformat_minor": 2
}
